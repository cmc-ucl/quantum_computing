{
 "cells": [
  {
   "cell_type": "markdown",
   "id": "70602d04",
   "metadata": {},
   "source": [
    "# Test the performance of the model"
   ]
  },
  {
   "cell_type": "markdown",
   "id": "16392722",
   "metadata": {},
   "source": [
    "## Occurrence of symmetry equivalent structures"
   ]
  },
  {
   "cell_type": "markdown",
   "id": "80c23ec1",
   "metadata": {},
   "source": [
    "### Binary Quadratic Model"
   ]
  },
  {
   "cell_type": "code",
   "execution_count": 39,
   "id": "c391bc4b",
   "metadata": {},
   "outputs": [
    {
     "data": {
      "text/plain": [
       "'from crystal_functions.file_readwrite import *\\nfrom execute import runcry'"
      ]
     },
     "execution_count": 39,
     "metadata": {},
     "output_type": "execute_result"
    }
   ],
   "source": [
    "from quantum_computing_functions import *\n",
    "from quantum_computing_postprocessing import *\n",
    "\n",
    "from dwave.embedding.chain_strength import  uniform_torque_compensation\n",
    "\n",
    "import numpy as np\n",
    "import pandas as pd\n",
    "\n",
    "from pymatgen.core.structure import Structure\n",
    "from pymatgen.symmetry.analyzer import SpacegroupAnalyzer\n",
    "from pymatgen.io.ase import AseAtomsAdaptor\n",
    "\n",
    "from ase.visualize import view\n",
    "\n",
    "from pymatgen.ext.matproj import MPRester\n",
    "\n",
    "from ase.visualize import view\n",
    "from pymatgen.io.ase import AseAtomsAdaptor\n",
    "\n",
    "'''import sys\n",
    "sys.path.insert(1,'/Users/brunocamino/Desktop/Imperial/crystal-code-tools/crystal_functions/crystal_functions')\n",
    "from file_readwrite import Crystal_gui\n",
    "from convert import *'''\n",
    "\n",
    "'''from crystal_functions.file_readwrite import *\n",
    "from execute import runcry'''"
   ]
  },
  {
   "cell_type": "code",
   "execution_count": 2,
   "id": "5c45b8cf",
   "metadata": {},
   "outputs": [
    {
     "data": {
      "text/plain": [
       "8"
      ]
     },
     "execution_count": 2,
     "metadata": {},
     "output_type": "execute_result"
    }
   ],
   "source": [
    "from pymatgen.core.structure import Structure\n",
    "from pymatgen.symmetry.analyzer import SpacegroupAnalyzer\n",
    "import copy\n",
    "import numpy as np\n",
    "\n",
    "lattice = np.array([[ 1.233862, -2.137112,  0.      ],\n",
    "                   [ 1.233862,  2.137112,  0.      ],\n",
    "                   [ 0.      ,  0.      ,  8.685038]])\n",
    "\n",
    "graphene = Structure(lattice, species=['C','C'], coords=[[2/3, 1/3, 0. ],[1/3, 2/3, 0.]])\n",
    "graphene = SpacegroupAnalyzer(graphene).get_conventional_standard_structure()\n",
    "\n",
    "n_supercell = 2\n",
    "scaling_matrix = np.identity(3)*n_supercell\n",
    "scaling_matrix[2][2] = 1\n",
    "graphene_supercell = copy.deepcopy(graphene)\n",
    "graphene_supercell.make_supercell(scaling_matrix)\n",
    "structure = graphene_supercell\n",
    "graphene_supercell.num_sites"
   ]
  },
  {
   "cell_type": "code",
   "execution_count": 896,
   "id": "db083978",
   "metadata": {
    "collapsed": true
   },
   "outputs": [
    {
     "data": {
      "text/plain": [
       "<Popen: returncode: None args: ['/Users/brunocamino/miniconda3/envs/qc/bin/p...>"
      ]
     },
     "execution_count": 896,
     "metadata": {},
     "output_type": "execute_result"
    }
   ],
   "source": [
    "view(AseAtomsAdaptor().get_atoms(graphene_supercell))"
   ]
  },
  {
   "cell_type": "markdown",
   "id": "1e26f35e",
   "metadata": {},
   "source": [
    "# Formation energy"
   ]
  },
  {
   "cell_type": "code",
   "execution_count": 18,
   "id": "b9481997",
   "metadata": {},
   "outputs": [],
   "source": [
    "with MPRester(\"p5vAQV3F1QuxFcxVT\") as m:    \n",
    "    graphite_pmg = m.get_structure_by_material_id(\"mp-48\")"
   ]
  },
  {
   "cell_type": "code",
   "execution_count": 39,
   "id": "063b5094",
   "metadata": {},
   "outputs": [],
   "source": [
    "graphite_gui = cry_pmg2gui(graphite)"
   ]
  },
  {
   "cell_type": "code",
   "execution_count": 41,
   "id": "0bc614eb",
   "metadata": {},
   "outputs": [],
   "source": [
    "write_crystal_gui('./data/crystal/graphite.gui',graphite_gui)"
   ]
  },
  {
   "cell_type": "code",
   "execution_count": 28,
   "id": "b0e11e33",
   "metadata": {
    "collapsed": true
   },
   "outputs": [
    {
     "data": {
      "text/plain": [
       "[Rot:\n",
       " [[1. 0. 0.]\n",
       "  [0. 1. 0.]\n",
       "  [0. 0. 1.]]\n",
       " tau\n",
       " [0. 0. 0.],\n",
       " Rot:\n",
       " [[-1.  0.  0.]\n",
       "  [ 0. -1.  0.]\n",
       "  [ 0.  0. -1.]]\n",
       " tau\n",
       " [0. 0. 0.],\n",
       " Rot:\n",
       " [[ 1. -1.  0.]\n",
       "  [ 1.  0.  0.]\n",
       "  [ 0.  0.  1.]]\n",
       " tau\n",
       " [0.  0.  0.5],\n",
       " Rot:\n",
       " [[-1.  1.  0.]\n",
       "  [-1.  0.  0.]\n",
       "  [ 0.  0. -1.]]\n",
       " tau\n",
       " [0.  0.  0.5],\n",
       " Rot:\n",
       " [[ 0. -1.  0.]\n",
       "  [ 1. -1.  0.]\n",
       "  [ 0.  0.  1.]]\n",
       " tau\n",
       " [0. 0. 0.],\n",
       " Rot:\n",
       " [[ 0.  1.  0.]\n",
       "  [-1.  1.  0.]\n",
       "  [ 0.  0. -1.]]\n",
       " tau\n",
       " [0. 0. 0.],\n",
       " Rot:\n",
       " [[-1.  0.  0.]\n",
       "  [ 0. -1.  0.]\n",
       "  [ 0.  0.  1.]]\n",
       " tau\n",
       " [0.  0.  0.5],\n",
       " Rot:\n",
       " [[ 1.  0.  0.]\n",
       "  [ 0.  1.  0.]\n",
       "  [ 0.  0. -1.]]\n",
       " tau\n",
       " [0.  0.  0.5],\n",
       " Rot:\n",
       " [[-1.  1.  0.]\n",
       "  [-1.  0.  0.]\n",
       "  [ 0.  0.  1.]]\n",
       " tau\n",
       " [0. 0. 0.],\n",
       " Rot:\n",
       " [[ 1. -1.  0.]\n",
       "  [ 1.  0.  0.]\n",
       "  [ 0.  0. -1.]]\n",
       " tau\n",
       " [0. 0. 0.],\n",
       " Rot:\n",
       " [[ 0.  1.  0.]\n",
       "  [-1.  1.  0.]\n",
       "  [ 0.  0.  1.]]\n",
       " tau\n",
       " [0.  0.  0.5],\n",
       " Rot:\n",
       " [[ 0. -1.  0.]\n",
       "  [ 1. -1.  0.]\n",
       "  [ 0.  0. -1.]]\n",
       " tau\n",
       " [0.  0.  0.5],\n",
       " Rot:\n",
       " [[ 1.  0.  0.]\n",
       "  [ 1. -1.  0.]\n",
       "  [ 0.  0. -1.]]\n",
       " tau\n",
       " [0.  0.  0.5],\n",
       " Rot:\n",
       " [[-1.  0.  0.]\n",
       "  [-1.  1.  0.]\n",
       "  [ 0.  0.  1.]]\n",
       " tau\n",
       " [0.  0.  0.5],\n",
       " Rot:\n",
       " [[ 1. -1.  0.]\n",
       "  [ 0. -1.  0.]\n",
       "  [ 0.  0. -1.]]\n",
       " tau\n",
       " [0. 0. 0.],\n",
       " Rot:\n",
       " [[-1.  1.  0.]\n",
       "  [ 0.  1.  0.]\n",
       "  [ 0.  0.  1.]]\n",
       " tau\n",
       " [0. 0. 0.],\n",
       " Rot:\n",
       " [[ 0. -1.  0.]\n",
       "  [-1.  0.  0.]\n",
       "  [ 0.  0. -1.]]\n",
       " tau\n",
       " [0.  0.  0.5],\n",
       " Rot:\n",
       " [[0. 1. 0.]\n",
       "  [1. 0. 0.]\n",
       "  [0. 0. 1.]]\n",
       " tau\n",
       " [0.  0.  0.5],\n",
       " Rot:\n",
       " [[-1.  0.  0.]\n",
       "  [-1.  1.  0.]\n",
       "  [ 0.  0. -1.]]\n",
       " tau\n",
       " [0. 0. 0.],\n",
       " Rot:\n",
       " [[ 1.  0.  0.]\n",
       "  [ 1. -1.  0.]\n",
       "  [ 0.  0.  1.]]\n",
       " tau\n",
       " [0. 0. 0.],\n",
       " Rot:\n",
       " [[-1.  1.  0.]\n",
       "  [ 0.  1.  0.]\n",
       "  [ 0.  0. -1.]]\n",
       " tau\n",
       " [0.  0.  0.5],\n",
       " Rot:\n",
       " [[ 1. -1.  0.]\n",
       "  [ 0. -1.  0.]\n",
       "  [ 0.  0.  1.]]\n",
       " tau\n",
       " [0.  0.  0.5],\n",
       " Rot:\n",
       " [[ 0.  1.  0.]\n",
       "  [ 1.  0.  0.]\n",
       "  [ 0.  0. -1.]]\n",
       " tau\n",
       " [0. 0. 0.],\n",
       " Rot:\n",
       " [[ 0. -1.  0.]\n",
       "  [-1.  0.  0.]\n",
       "  [ 0.  0.  1.]]\n",
       " tau\n",
       " [0. 0. 0.]]"
      ]
     },
     "execution_count": 28,
     "metadata": {},
     "output_type": "execute_result"
    }
   ],
   "source": [
    "SpacegroupAnalyzer(graphite_pmg).get_space_group_operations()"
   ]
  },
  {
   "cell_type": "code",
   "execution_count": 38,
   "id": "837e70bf",
   "metadata": {},
   "outputs": [],
   "source": [
    "graphene_gui = cry_pmg2gui(graphene_supercell,dimensionality=2)\n",
    "write_crystal_gui('./data/crystal/graphene.gui',graphene_gui)"
   ]
  },
  {
   "cell_type": "code",
   "execution_count": 48,
   "id": "ae3c64d2",
   "metadata": {},
   "outputs": [],
   "source": [
    "graphene_1v = copy.deepcopy(graphene_supercell)\n",
    "graphene_1v.remove_sites([0])\n",
    "graphene_1v_gui = cry_pmg2gui(graphene_1v)\n",
    "write_crystal_gui('./data/crystal/graphene_1v.gui',graphene_1v_gui)"
   ]
  },
  {
   "cell_type": "code",
   "execution_count": 55,
   "id": "3bdc3165",
   "metadata": {},
   "outputs": [],
   "source": [
    "E_graphite = Crystal_output().read_cry_output('data/crystal/graphite.out').get_final_energy()\n",
    "E_graphene = Crystal_output().read_cry_output('data/crystal/graphene.out').get_final_energy()\n",
    "E_graphene_1v = Crystal_output().read_cry_output('data/crystal/graphene_1v.out').get_final_energy()"
   ]
  },
  {
   "cell_type": "code",
   "execution_count": 57,
   "id": "0cfd714b",
   "metadata": {},
   "outputs": [],
   "source": [
    "E_graphite_atom = E_graphite/graphite.num_sites\n",
    "E_graphene_atom = E_graphene/graphene.num_sites\n",
    "E_graphite_1v_atom = E_graphite/graphene_1v.num_sites\n"
   ]
  },
  {
   "cell_type": "code",
   "execution_count": 58,
   "id": "918f9e79",
   "metadata": {},
   "outputs": [
    {
     "data": {
      "text/plain": [
       "-9321.11994268472"
      ]
     },
     "execution_count": 58,
     "metadata": {},
     "output_type": "execute_result"
    }
   ],
   "source": [
    "E_graphene_atom"
   ]
  },
  {
   "cell_type": "code",
   "execution_count": 59,
   "id": "5e58d633",
   "metadata": {
    "scrolled": true
   },
   "outputs": [
    {
     "data": {
      "text/plain": [
       "-243.69344321171502"
      ]
     },
     "execution_count": 59,
     "metadata": {},
     "output_type": "execute_result"
    }
   ],
   "source": [
    "E_graphite_1v_atom"
   ]
  },
  {
   "cell_type": "markdown",
   "id": "f82a03f6",
   "metadata": {},
   "source": [
    "# Build discrete QUBO"
   ]
  },
  {
   "cell_type": "markdown",
   "id": "ccb8f3ad",
   "metadata": {},
   "source": [
    "## Vacancies"
   ]
  },
  {
   "cell_type": "markdown",
   "id": "8f1ad680",
   "metadata": {},
   "source": [
    "#### Concentration"
   ]
  },
  {
   "cell_type": "code",
   "execution_count": 5,
   "id": "1efaaa73",
   "metadata": {
    "collapsed": true
   },
   "outputs": [
    {
     "data": {
      "text/plain": [
       "array([[-1,  2,  0,  0,  0,  0,  0,  0,  0,  0,  0,  0,  0,  0,  0,  0],\n",
       "       [ 0, -2,  0,  0,  0,  0,  0,  0,  0,  0,  0,  0,  0,  0,  0,  0],\n",
       "       [ 0,  0, -1,  2,  0,  0,  0,  0,  0,  0,  0,  0,  0,  0,  0,  0],\n",
       "       [ 0,  0,  0, -2,  0,  0,  0,  0,  0,  0,  0,  0,  0,  0,  0,  0],\n",
       "       [ 0,  0,  0,  0, -1,  2,  0,  0,  0,  0,  0,  0,  0,  0,  0,  0],\n",
       "       [ 0,  0,  0,  0,  0, -2,  0,  0,  0,  0,  0,  0,  0,  0,  0,  0],\n",
       "       [ 0,  0,  0,  0,  0,  0, -1,  2,  0,  0,  0,  0,  0,  0,  0,  0],\n",
       "       [ 0,  0,  0,  0,  0,  0,  0, -2,  0,  0,  0,  0,  0,  0,  0,  0],\n",
       "       [ 0,  0,  0,  0,  0,  0,  0,  0, -1,  2,  0,  0,  0,  0,  0,  0],\n",
       "       [ 0,  0,  0,  0,  0,  0,  0,  0,  0, -2,  0,  0,  0,  0,  0,  0],\n",
       "       [ 0,  0,  0,  0,  0,  0,  0,  0,  0,  0, -1,  2,  0,  0,  0,  0],\n",
       "       [ 0,  0,  0,  0,  0,  0,  0,  0,  0,  0,  0, -2,  0,  0,  0,  0],\n",
       "       [ 0,  0,  0,  0,  0,  0,  0,  0,  0,  0,  0,  0, -1,  2,  0,  0],\n",
       "       [ 0,  0,  0,  0,  0,  0,  0,  0,  0,  0,  0,  0,  0, -2,  0,  0],\n",
       "       [ 0,  0,  0,  0,  0,  0,  0,  0,  0,  0,  0,  0,  0,  0, -1,  2],\n",
       "       [ 0,  0,  0,  0,  0,  0,  0,  0,  0,  0,  0,  0,  0,  0,  0, -2]])"
      ]
     },
     "execution_count": 5,
     "metadata": {},
     "output_type": "execute_result"
    }
   ],
   "source": [
    "Q_const = build_qubo_discrete_constraints(structure,[6,0],concentration=[7,1],lambda_1 = 1, theta=1) \n"
   ]
  },
  {
   "cell_type": "markdown",
   "id": "db2a8241",
   "metadata": {},
   "source": [
    "#### Chemical potential"
   ]
  },
  {
   "cell_type": "code",
   "execution_count": null,
   "id": "7e9c6b49",
   "metadata": {},
   "outputs": [],
   "source": [
    "Q_const = build_qubo_discrete_constraints(structure,[6,0],chem_potential=[0,-1],lambda_1 = 1, theta=1) "
   ]
  },
  {
   "cell_type": "markdown",
   "id": "21fbcbeb",
   "metadata": {},
   "source": [
    "#### Full model"
   ]
  },
  {
   "cell_type": "code",
   "execution_count": 6,
   "id": "035c37ec",
   "metadata": {
    "collapsed": true
   },
   "outputs": [
    {
     "data": {
      "text/plain": [
       "array([[-36.,  20.,   4.,   0.,   4.,   0.,   4.,   0.,   3.,   0.,   3.,\n",
       "          0.,   3.,   0.,   4.,   0.],\n",
       "       [  0., -12.,   0.,   4.,   0.,   4.,   0.,   4.,   0.,   4.,   0.,\n",
       "          4.,   0.,   4.,   0.,   4.],\n",
       "       [  0.,   0., -36.,  20.,   4.,   0.,   4.,   0.,   3.,   0.,   3.,\n",
       "          0.,   4.,   0.,   3.,   0.],\n",
       "       [  0.,   0.,   0., -12.,   0.,   4.,   0.,   4.,   0.,   4.,   0.,\n",
       "          4.,   0.,   4.,   0.,   4.],\n",
       "       [  0.,   0.,   0.,   0., -36.,  20.,   4.,   0.,   3.,   0.,   4.,\n",
       "          0.,   3.,   0.,   3.,   0.],\n",
       "       [  0.,   0.,   0.,   0.,   0., -12.,   0.,   4.,   0.,   4.,   0.,\n",
       "          4.,   0.,   4.,   0.,   4.],\n",
       "       [  0.,   0.,   0.,   0.,   0.,   0., -36.,  20.,   4.,   0.,   3.,\n",
       "          0.,   3.,   0.,   3.,   0.],\n",
       "       [  0.,   0.,   0.,   0.,   0.,   0.,   0., -12.,   0.,   4.,   0.,\n",
       "          4.,   0.,   4.,   0.,   4.],\n",
       "       [  0.,   0.,   0.,   0.,   0.,   0.,   0.,   0., -36.,  20.,   4.,\n",
       "          0.,   4.,   0.,   4.,   0.],\n",
       "       [  0.,   0.,   0.,   0.,   0.,   0.,   0.,   0.,   0., -12.,   0.,\n",
       "          4.,   0.,   4.,   0.,   4.],\n",
       "       [  0.,   0.,   0.,   0.,   0.,   0.,   0.,   0.,   0.,   0., -36.,\n",
       "         20.,   4.,   0.,   4.,   0.],\n",
       "       [  0.,   0.,   0.,   0.,   0.,   0.,   0.,   0.,   0.,   0.,   0.,\n",
       "        -12.,   0.,   4.,   0.,   4.],\n",
       "       [  0.,   0.,   0.,   0.,   0.,   0.,   0.,   0.,   0.,   0.,   0.,\n",
       "          0., -36.,  20.,   4.,   0.],\n",
       "       [  0.,   0.,   0.,   0.,   0.,   0.,   0.,   0.,   0.,   0.,   0.,\n",
       "          0.,   0., -12.,   0.,   4.],\n",
       "       [  0.,   0.,   0.,   0.,   0.,   0.,   0.,   0.,   0.,   0.,   0.,\n",
       "          0.,   0.,   0., -36.,  20.],\n",
       "       [  0.,   0.,   0.,   0.,   0.,   0.,   0.,   0.,   0.,   0.,   0.,\n",
       "          0.,   0.,   0.,   0., -12.]])"
      ]
     },
     "execution_count": 6,
     "metadata": {},
     "output_type": "execute_result"
    }
   ],
   "source": [
    "species=[6,0]\n",
    "parameters = [[-1,0,0]]\n",
    "concentration = [7,1]\n",
    "bqm = build_quadratic_model_discrete(structure ,species, parameters,\n",
    "    concentration = concentration, chem_potential=None, max_neigh = 1, alpha=1,lambda_1 = 2, theta=10)\n",
    "build_qubo_matrix(bqm)"
   ]
  },
  {
   "cell_type": "code",
   "execution_count": 41,
   "id": "31cede2a",
   "metadata": {},
   "outputs": [
    {
     "data": {
      "text/plain": [
       "array([[ -9.5,  20. ,   0. ,   0. ,   0. ,   0. ,   0. ,   0. ,  -1. ,\n",
       "          0. ,  -1. ,   0. ,  -1. ,   0. ,   0. ,   0. ],\n",
       "       [  0. , -10. ,   0. ,   0. ,   0. ,   0. ,   0. ,   0. ,   0. ,\n",
       "          0. ,   0. ,   0. ,   0. ,   0. ,   0. ,   0. ],\n",
       "       [  0. ,   0. ,  -9.5,  20. ,   0. ,   0. ,   0. ,   0. ,  -1. ,\n",
       "          0. ,  -1. ,   0. ,   0. ,   0. ,  -1. ,   0. ],\n",
       "       [  0. ,   0. ,   0. , -10. ,   0. ,   0. ,   0. ,   0. ,   0. ,\n",
       "          0. ,   0. ,   0. ,   0. ,   0. ,   0. ,   0. ],\n",
       "       [  0. ,   0. ,   0. ,   0. ,  -9.5,  20. ,   0. ,   0. ,  -1. ,\n",
       "          0. ,   0. ,   0. ,  -1. ,   0. ,  -1. ,   0. ],\n",
       "       [  0. ,   0. ,   0. ,   0. ,   0. , -10. ,   0. ,   0. ,   0. ,\n",
       "          0. ,   0. ,   0. ,   0. ,   0. ,   0. ,   0. ],\n",
       "       [  0. ,   0. ,   0. ,   0. ,   0. ,   0. ,  -9.5,  20. ,   0. ,\n",
       "          0. ,  -1. ,   0. ,  -1. ,   0. ,  -1. ,   0. ],\n",
       "       [  0. ,   0. ,   0. ,   0. ,   0. ,   0. ,   0. , -10. ,   0. ,\n",
       "          0. ,   0. ,   0. ,   0. ,   0. ,   0. ,   0. ],\n",
       "       [  0. ,   0. ,   0. ,   0. ,   0. ,   0. ,   0. ,   0. ,  -9.5,\n",
       "         20. ,   0. ,   0. ,   0. ,   0. ,   0. ,   0. ],\n",
       "       [  0. ,   0. ,   0. ,   0. ,   0. ,   0. ,   0. ,   0. ,   0. ,\n",
       "        -10. ,   0. ,   0. ,   0. ,   0. ,   0. ,   0. ],\n",
       "       [  0. ,   0. ,   0. ,   0. ,   0. ,   0. ,   0. ,   0. ,   0. ,\n",
       "          0. ,  -9.5,  20. ,   0. ,   0. ,   0. ,   0. ],\n",
       "       [  0. ,   0. ,   0. ,   0. ,   0. ,   0. ,   0. ,   0. ,   0. ,\n",
       "          0. ,   0. , -10. ,   0. ,   0. ,   0. ,   0. ],\n",
       "       [  0. ,   0. ,   0. ,   0. ,   0. ,   0. ,   0. ,   0. ,   0. ,\n",
       "          0. ,   0. ,   0. ,  -9.5,  20. ,   0. ,   0. ],\n",
       "       [  0. ,   0. ,   0. ,   0. ,   0. ,   0. ,   0. ,   0. ,   0. ,\n",
       "          0. ,   0. ,   0. ,   0. , -10. ,   0. ,   0. ],\n",
       "       [  0. ,   0. ,   0. ,   0. ,   0. ,   0. ,   0. ,   0. ,   0. ,\n",
       "          0. ,   0. ,   0. ,   0. ,   0. ,  -9.5,  20. ],\n",
       "       [  0. ,   0. ,   0. ,   0. ,   0. ,   0. ,   0. ,   0. ,   0. ,\n",
       "          0. ,   0. ,   0. ,   0. ,   0. ,   0. , -10. ]])"
      ]
     },
     "execution_count": 41,
     "metadata": {},
     "output_type": "execute_result"
    }
   ],
   "source": [
    "species=[6,0]\n",
    "parameters = [[-1,0,0]]\n",
    "chem_potential = [0.5,0]\n",
    "bqm = build_quadratic_model_discrete(structure ,species, parameters,\n",
    "    concentration = None, chem_potential=chem_potential, max_neigh = 1, alpha=1,lambda_1 = 2, theta=10)\n",
    "build_qubo_matrix(bqm)"
   ]
  },
  {
   "cell_type": "code",
   "execution_count": 42,
   "id": "587c237a",
   "metadata": {},
   "outputs": [],
   "source": [
    "from dwave.system import EmbeddingComposite, DWaveSampler\n",
    "\n",
    "sampler = EmbeddingComposite(DWaveSampler())\n",
    "\n",
    "sampleset = sampler.sample(bqm, num_reads=1000)"
   ]
  },
  {
   "cell_type": "code",
   "execution_count": 43,
   "id": "b5e03fe6",
   "metadata": {
    "scrolled": true
   },
   "outputs": [
    {
     "data": {
      "text/html": [
       "<div>\n",
       "<style scoped>\n",
       "    .dataframe tbody tr th:only-of-type {\n",
       "        vertical-align: middle;\n",
       "    }\n",
       "\n",
       "    .dataframe tbody tr th {\n",
       "        vertical-align: top;\n",
       "    }\n",
       "\n",
       "    .dataframe thead th {\n",
       "        text-align: right;\n",
       "    }\n",
       "</style>\n",
       "<table border=\"1\" class=\"dataframe\">\n",
       "  <thead>\n",
       "    <tr style=\"text-align: right;\">\n",
       "      <th></th>\n",
       "      <th>0</th>\n",
       "      <th>1</th>\n",
       "      <th>2</th>\n",
       "      <th>3</th>\n",
       "      <th>4</th>\n",
       "      <th>5</th>\n",
       "      <th>6</th>\n",
       "      <th>7</th>\n",
       "      <th>chain_break_fraction</th>\n",
       "      <th>energy</th>\n",
       "      <th>num_occurrences</th>\n",
       "    </tr>\n",
       "  </thead>\n",
       "  <tbody>\n",
       "    <tr>\n",
       "      <th>0</th>\n",
       "      <td>1</td>\n",
       "      <td>1</td>\n",
       "      <td>1</td>\n",
       "      <td>1</td>\n",
       "      <td>1</td>\n",
       "      <td>1</td>\n",
       "      <td>1</td>\n",
       "      <td>1</td>\n",
       "      <td>0.0</td>\n",
       "      <td>-88.0</td>\n",
       "      <td>181</td>\n",
       "    </tr>\n",
       "    <tr>\n",
       "      <th>1</th>\n",
       "      <td>1</td>\n",
       "      <td>1</td>\n",
       "      <td>0</td>\n",
       "      <td>1</td>\n",
       "      <td>1</td>\n",
       "      <td>1</td>\n",
       "      <td>1</td>\n",
       "      <td>1</td>\n",
       "      <td>0.0</td>\n",
       "      <td>-85.5</td>\n",
       "      <td>34</td>\n",
       "    </tr>\n",
       "    <tr>\n",
       "      <th>2</th>\n",
       "      <td>1</td>\n",
       "      <td>1</td>\n",
       "      <td>1</td>\n",
       "      <td>1</td>\n",
       "      <td>0</td>\n",
       "      <td>1</td>\n",
       "      <td>1</td>\n",
       "      <td>1</td>\n",
       "      <td>0.0</td>\n",
       "      <td>-85.5</td>\n",
       "      <td>31</td>\n",
       "    </tr>\n",
       "    <tr>\n",
       "      <th>3</th>\n",
       "      <td>1</td>\n",
       "      <td>1</td>\n",
       "      <td>1</td>\n",
       "      <td>1</td>\n",
       "      <td>1</td>\n",
       "      <td>0</td>\n",
       "      <td>1</td>\n",
       "      <td>1</td>\n",
       "      <td>0.0</td>\n",
       "      <td>-85.5</td>\n",
       "      <td>24</td>\n",
       "    </tr>\n",
       "    <tr>\n",
       "      <th>4</th>\n",
       "      <td>1</td>\n",
       "      <td>0</td>\n",
       "      <td>1</td>\n",
       "      <td>1</td>\n",
       "      <td>1</td>\n",
       "      <td>1</td>\n",
       "      <td>1</td>\n",
       "      <td>1</td>\n",
       "      <td>0.0</td>\n",
       "      <td>-85.5</td>\n",
       "      <td>37</td>\n",
       "    </tr>\n",
       "    <tr>\n",
       "      <th>...</th>\n",
       "      <td>...</td>\n",
       "      <td>...</td>\n",
       "      <td>...</td>\n",
       "      <td>...</td>\n",
       "      <td>...</td>\n",
       "      <td>...</td>\n",
       "      <td>...</td>\n",
       "      <td>...</td>\n",
       "      <td>...</td>\n",
       "      <td>...</td>\n",
       "      <td>...</td>\n",
       "    </tr>\n",
       "    <tr>\n",
       "      <th>177</th>\n",
       "      <td>0</td>\n",
       "      <td>0</td>\n",
       "      <td>0</td>\n",
       "      <td>0</td>\n",
       "      <td>1</td>\n",
       "      <td>0</td>\n",
       "      <td>1</td>\n",
       "      <td>0</td>\n",
       "      <td>0.0</td>\n",
       "      <td>-79.0</td>\n",
       "      <td>1</td>\n",
       "    </tr>\n",
       "    <tr>\n",
       "      <th>178</th>\n",
       "      <td>1</td>\n",
       "      <td>0</td>\n",
       "      <td>0</td>\n",
       "      <td>1</td>\n",
       "      <td>0</td>\n",
       "      <td>0</td>\n",
       "      <td>0</td>\n",
       "      <td>0</td>\n",
       "      <td>0.0</td>\n",
       "      <td>-79.0</td>\n",
       "      <td>3</td>\n",
       "    </tr>\n",
       "    <tr>\n",
       "      <th>179</th>\n",
       "      <td>1</td>\n",
       "      <td>0</td>\n",
       "      <td>0</td>\n",
       "      <td>0</td>\n",
       "      <td>0</td>\n",
       "      <td>0</td>\n",
       "      <td>0</td>\n",
       "      <td>1</td>\n",
       "      <td>0.0</td>\n",
       "      <td>-79.0</td>\n",
       "      <td>1</td>\n",
       "    </tr>\n",
       "    <tr>\n",
       "      <th>180</th>\n",
       "      <td>1</td>\n",
       "      <td>1</td>\n",
       "      <td>0</td>\n",
       "      <td>0</td>\n",
       "      <td>0</td>\n",
       "      <td>0</td>\n",
       "      <td>0</td>\n",
       "      <td>0</td>\n",
       "      <td>0.0</td>\n",
       "      <td>-79.0</td>\n",
       "      <td>2</td>\n",
       "    </tr>\n",
       "    <tr>\n",
       "      <th>181</th>\n",
       "      <td>0</td>\n",
       "      <td>0</td>\n",
       "      <td>1</td>\n",
       "      <td>0</td>\n",
       "      <td>0</td>\n",
       "      <td>1</td>\n",
       "      <td>0</td>\n",
       "      <td>0</td>\n",
       "      <td>0.0</td>\n",
       "      <td>-79.0</td>\n",
       "      <td>1</td>\n",
       "    </tr>\n",
       "  </tbody>\n",
       "</table>\n",
       "<p>182 rows × 11 columns</p>\n",
       "</div>"
      ],
      "text/plain": [
       "     0  1  2  3  4  5  6  7  chain_break_fraction  energy  num_occurrences\n",
       "0    1  1  1  1  1  1  1  1                   0.0   -88.0              181\n",
       "1    1  1  0  1  1  1  1  1                   0.0   -85.5               34\n",
       "2    1  1  1  1  0  1  1  1                   0.0   -85.5               31\n",
       "3    1  1  1  1  1  0  1  1                   0.0   -85.5               24\n",
       "4    1  0  1  1  1  1  1  1                   0.0   -85.5               37\n",
       "..  .. .. .. .. .. .. .. ..                   ...     ...              ...\n",
       "177  0  0  0  0  1  0  1  0                   0.0   -79.0                1\n",
       "178  1  0  0  1  0  0  0  0                   0.0   -79.0                3\n",
       "179  1  0  0  0  0  0  0  1                   0.0   -79.0                1\n",
       "180  1  1  0  0  0  0  0  0                   0.0   -79.0                2\n",
       "181  0  0  1  0  0  1  0  0                   0.0   -79.0                1\n",
       "\n",
       "[182 rows x 11 columns]"
      ]
     },
     "execution_count": 43,
     "metadata": {},
     "output_type": "execute_result"
    }
   ],
   "source": [
    "dataframe = sampleset.to_pandas_dataframe()\n",
    "convert_df(dataframe,2)"
   ]
  },
  {
   "cell_type": "markdown",
   "id": "e305b75c",
   "metadata": {},
   "source": [
    "## Solid solutions"
   ]
  },
  {
   "cell_type": "code",
   "execution_count": 14,
   "id": "aa6aaa7a",
   "metadata": {},
   "outputs": [
    {
     "data": {
      "text/plain": [
       "8"
      ]
     },
     "execution_count": 14,
     "metadata": {},
     "output_type": "execute_result"
    }
   ],
   "source": [
    "from crystal_functions.file_readwrite import * \n",
    "from crystal_functions.convert import * \n",
    "from crystal_functions.execute import *\n",
    "\n",
    "\n",
    "from pymatgen.core.structure import Structure\n",
    "from pymatgen.symmetry.analyzer import SpacegroupAnalyzer\n",
    "import copy\n",
    "import numpy as np\n",
    "\n",
    "lattice = np.array([[ 1.233862, -2.137112,  0.      ],\n",
    "                   [ 1.233862,  2.137112,  0.      ],\n",
    "                   [ 0.      ,  0.      ,  8.685038]])\n",
    "\n",
    "graphene = Structure(lattice, species=['C','C'], coords=[[2/3, 1/3, 0. ],[1/3, 2/3, 0.]])\n",
    "graphene = SpacegroupAnalyzer(graphene).get_conventional_standard_structure()\n",
    "\n",
    "n_supercell = 2\n",
    "scaling_matrix = np.identity(3)*n_supercell\n",
    "scaling_matrix[2][2] = 1\n",
    "graphene_supercell = copy.deepcopy(graphene)\n",
    "graphene_supercell.make_supercell(scaling_matrix)\n",
    "structure = graphene_supercell\n",
    "graphene_supercell.num_sites"
   ]
  },
  {
   "cell_type": "markdown",
   "id": "8a74b8a4",
   "metadata": {},
   "source": [
    "### Graphene pure"
   ]
  },
  {
   "cell_type": "code",
   "execution_count": 26,
   "id": "343c504f",
   "metadata": {},
   "outputs": [],
   "source": [
    "crystal_input = Crystal_input().from_file('./data/crystal/graphene.d12')\n",
    "\n",
    "crystal_gui = cry_pmg2gui(graphene_supercell)\n",
    "write_crystal_gui('./data/crystal/graphene_8.gui',crystal_gui)\n",
    "write_crystal_input('./data/crystal/graphene_8.d12',crystal_input)\n",
    "\n",
    "#runcry('./data/crystal/graphene_8')\n",
    "\n",
    "crystal_output = Crystal_output().read_cry_output('./data/crystal/graphene_8.out')\n",
    "E_graphene = crystal_output.get_final_energy()\n",
    "E_graphene_atom = E_graphene/graphene_supercell.num_sites\n"
   ]
  },
  {
   "cell_type": "markdown",
   "id": "2b012b04",
   "metadata": {},
   "source": [
    "### C atom"
   ]
  },
  {
   "cell_type": "code",
   "execution_count": 45,
   "id": "2fc473e4",
   "metadata": {},
   "outputs": [
    {
     "data": {
      "text/plain": [
       "-6.801866316724651"
      ]
     },
     "execution_count": 45,
     "metadata": {},
     "output_type": "execute_result"
    }
   ],
   "source": [
    "E_C = Crystal_output().read_cry_output('./data/crystal/c.out').get_final_energy()\n",
    "E_cc_bond = (E_graphene-(graphene_supercell.num_sites*E_C))/(graphene_supercell.num_sites*1.5)\n",
    "E_cc_bond"
   ]
  },
  {
   "cell_type": "markdown",
   "id": "c70b1984",
   "metadata": {},
   "source": [
    "### N atom"
   ]
  },
  {
   "cell_type": "code",
   "execution_count": 30,
   "id": "f598c3b2",
   "metadata": {},
   "outputs": [],
   "source": [
    "E_N = Crystal_output().read_cry_output('./data/crystal/n.out').get_final_energy()"
   ]
  },
  {
   "cell_type": "markdown",
   "id": "93864cdb",
   "metadata": {},
   "source": [
    "### Graphene 1 N"
   ]
  },
  {
   "cell_type": "code",
   "execution_count": 50,
   "id": "a37d8bca",
   "metadata": {},
   "outputs": [],
   "source": [
    "crystal_input = Crystal_input().from_file('./data/crystal/graphene.d12')\n",
    "\n",
    "graphene_supercell.replace(0,7)\n",
    "\n",
    "crystal_gui = cry_pmg2gui(graphene_supercell)\n",
    "write_crystal_gui('./data/crystal/graphene_8_1N.gui',crystal_gui)\n",
    "write_crystal_input('./data/crystal/graphene_8_1N.d12',crystal_input)\n",
    "\n",
    "runcry('./data/crystal/graphene_8_1N')\n",
    "\n",
    "crystal_output = Crystal_output().read_cry_output('./data/crystal/graphene_8_1N.out')\n",
    "E_graphene_1N = crystal_output.get_final_energy()\n",
    "E_graphene_1N_atom = E_graphene_1N/graphene_supercell.num_sites\n"
   ]
  },
  {
   "cell_type": "markdown",
   "id": "1536e67b",
   "metadata": {},
   "source": [
    "#### method 1"
   ]
  },
  {
   "cell_type": "code",
   "execution_count": 49,
   "id": "2ccb9f51",
   "metadata": {
    "scrolled": true
   },
   "outputs": [
    {
     "data": {
      "text/plain": [
       "-5.973544367641201"
      ]
     },
     "execution_count": 49,
     "metadata": {},
     "output_type": "execute_result"
    }
   ],
   "source": [
    "E_cn_bond = (E_graphene_1N-((graphene_supercell.num_sites-1)*E_C + 1*E_N + 9*E_cc_bond))/3\n",
    "E_cn_bond"
   ]
  },
  {
   "cell_type": "markdown",
   "id": "d78fdbcd",
   "metadata": {},
   "source": [
    "#### method 2"
   ]
  },
  {
   "cell_type": "code",
   "execution_count": 46,
   "id": "ec3147aa",
   "metadata": {},
   "outputs": [
    {
     "data": {
      "text/plain": [
       "-6.594785829453788"
      ]
     },
     "execution_count": 46,
     "metadata": {},
     "output_type": "execute_result"
    }
   ],
   "source": [
    "E_cn_bond = (E_graphene_1N-((graphene_supercell.num_sites-1)*E_C+E_N))/(graphene_supercell.num_sites*1.5)\n",
    "E_cn_bond"
   ]
  },
  {
   "cell_type": "code",
   "execution_count": 51,
   "id": "09df58fa",
   "metadata": {},
   "outputs": [
    {
     "data": {
      "text/plain": [
       "<Popen: returncode: None args: ['/Users/brunocamino/miniconda3/envs/qc/bin/p...>"
      ]
     },
     "execution_count": 51,
     "metadata": {},
     "output_type": "execute_result"
    }
   ],
   "source": [
    "view(AseAtomsAdaptor().get_atoms(graphene_supercell))"
   ]
  },
  {
   "cell_type": "markdown",
   "id": "35e7f0eb",
   "metadata": {},
   "source": [
    "### Graphene 2 N"
   ]
  },
  {
   "cell_type": "code",
   "execution_count": 52,
   "id": "07626152",
   "metadata": {},
   "outputs": [],
   "source": [
    "crystal_input = Crystal_input().from_file('./data/crystal/graphene.d12')\n",
    "\n",
    "graphene_supercell.replace(0,7)\n",
    "graphene_supercell.replace(4,7)\n",
    "\n",
    "crystal_gui = cry_pmg2gui(graphene_supercell)\n",
    "write_crystal_gui('./data/crystal/graphene_8_2N.gui',crystal_gui)\n",
    "write_crystal_input('./data/crystal/graphene_8_2N.d12',crystal_input)\n",
    "\n",
    "runcry('./data/crystal/graphene_8_2N')\n",
    "\n",
    "crystal_output = Crystal_output().read_cry_output('./data/crystal/graphene_8_2N.out')\n",
    "E_graphene_2N = crystal_output.get_final_energy()\n",
    "\n"
   ]
  },
  {
   "cell_type": "markdown",
   "id": "30f777ea",
   "metadata": {},
   "source": [
    "#### method 1"
   ]
  },
  {
   "cell_type": "code",
   "execution_count": 55,
   "id": "73ff5857",
   "metadata": {
    "scrolled": true
   },
   "outputs": [
    {
     "data": {
      "text/plain": [
       "-4.274455886279611"
      ]
     },
     "execution_count": 55,
     "metadata": {},
     "output_type": "execute_result"
    }
   ],
   "source": [
    "E_nn_bond = (E_graphene_2N-((graphene_supercell.num_sites-2)*E_C + 2*E_N + 7*E_cc_bond +4*E_cn_bond))\n",
    "E_nn_bond"
   ]
  },
  {
   "cell_type": "code",
   "execution_count": null,
   "id": "88b418b4",
   "metadata": {},
   "outputs": [],
   "source": []
  },
  {
   "cell_type": "code",
   "execution_count": null,
   "id": "347c2ad8",
   "metadata": {},
   "outputs": [],
   "source": []
  },
  {
   "cell_type": "code",
   "execution_count": 172,
   "id": "6df44857",
   "metadata": {},
   "outputs": [],
   "source": [
    "def build_ip_matrix(structure, species, parameters, alpha=100, max_neigh = 1,test=False):\n",
    "    \n",
    "    num_sites = structure.num_sites\n",
    "    num_species = len(species)\n",
    "    num_elements = num_sites*num_species\n",
    "    \n",
    "    distance_matrix = np.round(structure.distance_matrix,5)\n",
    "    shells = np.unique(np.round(distance_matrix,5))\n",
    "    \n",
    "    if test == True:\n",
    "        adjacency_matrix = build_adjacency_matrix(structure)\n",
    "        param = [0,1,0,0]\n",
    "    \n",
    "    # Generate an all False matrix\n",
    "    distance_matrix_filter = (distance_matrix == -1)\n",
    "\n",
    "    \n",
    "    # Only add the atoms within the shells up to max_neigh \n",
    "    for neigh in range(1,max_neigh+1):\n",
    "        distance_matrix_filter +=  distance_matrix == shells[neigh]  \n",
    "\n",
    "    # Buckingham\n",
    "    #loop \n",
    "    \n",
    "    ip_matrix = np.zeros((num_elements,num_elements))\n",
    "    parameters = np.array(parameters)\n",
    "    for i in range(num_sites):\n",
    "        for j in range(i,num_sites):\n",
    "            if distance_matrix_filter[i,j] == True:\n",
    "                index = -1\n",
    "                for k in range(num_species):\n",
    "                    for l in range(k,num_species):\n",
    "                        index += 1\n",
    "                        param = parameters[index]\n",
    "                        #print(i*num_species+k,j*num_species+l)\n",
    "                        if test == True:\n",
    "                            ip_matrix[i*num_species+k,j*num_species+l] = \\\n",
    "                            adjacency_matrix[i,j]*param\n",
    "                        else:\n",
    "                            ip_matrix[i*num_species+k,j*num_species+l] = \\\n",
    "                            param[0] * np.exp((-distance_matrix[i,j])/(param[1]))- \\\n",
    "                            ((param[2])/((distance_matrix[i,j])**6))\n",
    "                        \n",
    "                \n",
    "    return np.round(ip_matrix,2)"
   ]
  },
  {
   "cell_type": "code",
   "execution_count": 72,
   "id": "700a32d1",
   "metadata": {},
   "outputs": [
    {
     "name": "stdout",
     "output_type": "stream",
     "text": [
      "[[-10.    20.     4.     0.     4.24   0.98   4.24   0.98]\n",
      " [  0.   -10.     0.     4.     0.     4.24   0.     4.24]\n",
      " [  0.     0.   -10.    20.     4.24   0.98   4.24   0.98]\n",
      " [  0.     0.     0.   -10.     0.     4.24   0.     4.24]\n",
      " [  0.     0.     0.     0.   -10.    20.     4.     0.  ]\n",
      " [  0.     0.     0.     0.     0.   -10.     0.     4.  ]\n",
      " [  0.     0.     0.     0.     0.     0.   -10.    20.  ]\n",
      " [  0.     0.     0.     0.     0.     0.     0.   -10.  ]]\n"
     ]
    },
    {
     "data": {
      "text/plain": [
       "array([[-10,  20,   4,   0,   4,   0,   4,   0],\n",
       "       [  0, -10,   0,   4,   0,   4,   0,   4],\n",
       "       [  0,   0, -10,  20,   4,   0,   4,   0],\n",
       "       [  0,   0,   0, -10,   0,   4,   0,   4],\n",
       "       [  0,   0,   0,   0, -10,  20,   4,   0],\n",
       "       [  0,   0,   0,   0,   0, -10,   0,   4],\n",
       "       [  0,   0,   0,   0,   0,   0, -10,  20],\n",
       "       [  0,   0,   0,   0,   0,   0,   0, -10]])"
      ]
     },
     "execution_count": 72,
     "metadata": {},
     "output_type": "execute_result"
    }
   ],
   "source": [
    "build_qubo_matrix(build_bqm_discrete(structure,[12,14],[0.5,0.5], parameters, alpha=1, lambda_1=2, theta=10, max_neigh = 1))"
   ]
  },
  {
   "cell_type": "code",
   "execution_count": 71,
   "id": "aa82299b",
   "metadata": {},
   "outputs": [],
   "source": [
    "parameters = [[2457.243, 0.2610,  0.00],\n",
    "             [2457.243, 0.2610,  0.00],\n",
    "             [2457.243, 0.2610,  0.00]]\n",
    "             \n",
    "parameters = [[1.,1.,0.],\n",
    "            [2,2,0.],\n",
    "             [1,1,0.]]\n",
    "             \n",
    "\n",
    "#build_bqm_discrete(structure,species,concentrations, parameters, weight=100, max_neigh = 1)\n",
    "#build_bqm_discrete(structure,[12,14],[0.5,0.5], parameters, weight=100, max_neigh = 1)"
   ]
  },
  {
   "cell_type": "code",
   "execution_count": 891,
   "id": "b0552d9c",
   "metadata": {},
   "outputs": [
    {
     "data": {
      "text/html": [
       "<div>\n",
       "<style scoped>\n",
       "    .dataframe tbody tr th:only-of-type {\n",
       "        vertical-align: middle;\n",
       "    }\n",
       "\n",
       "    .dataframe tbody tr th {\n",
       "        vertical-align: top;\n",
       "    }\n",
       "\n",
       "    .dataframe thead th {\n",
       "        text-align: right;\n",
       "    }\n",
       "</style>\n",
       "<table border=\"1\" class=\"dataframe\">\n",
       "  <thead>\n",
       "    <tr style=\"text-align: right;\">\n",
       "      <th></th>\n",
       "      <th>chain_break_fraction</th>\n",
       "      <th>energy</th>\n",
       "      <th>num_occurrences</th>\n",
       "    </tr>\n",
       "  </thead>\n",
       "  <tbody>\n",
       "    <tr>\n",
       "      <th>0</th>\n",
       "      <td>0.000000</td>\n",
       "      <td>-2316.0</td>\n",
       "      <td>1</td>\n",
       "    </tr>\n",
       "    <tr>\n",
       "      <th>1</th>\n",
       "      <td>0.000000</td>\n",
       "      <td>-2314.0</td>\n",
       "      <td>1</td>\n",
       "    </tr>\n",
       "    <tr>\n",
       "      <th>2</th>\n",
       "      <td>0.000000</td>\n",
       "      <td>-2314.0</td>\n",
       "      <td>2</td>\n",
       "    </tr>\n",
       "    <tr>\n",
       "      <th>3</th>\n",
       "      <td>0.000000</td>\n",
       "      <td>-2314.0</td>\n",
       "      <td>1</td>\n",
       "    </tr>\n",
       "    <tr>\n",
       "      <th>4</th>\n",
       "      <td>0.000000</td>\n",
       "      <td>-2314.0</td>\n",
       "      <td>1</td>\n",
       "    </tr>\n",
       "    <tr>\n",
       "      <th>...</th>\n",
       "      <td>...</td>\n",
       "      <td>...</td>\n",
       "      <td>...</td>\n",
       "    </tr>\n",
       "    <tr>\n",
       "      <th>945</th>\n",
       "      <td>0.027778</td>\n",
       "      <td>-2203.0</td>\n",
       "      <td>1</td>\n",
       "    </tr>\n",
       "    <tr>\n",
       "      <th>959</th>\n",
       "      <td>0.027778</td>\n",
       "      <td>-2162.0</td>\n",
       "      <td>1</td>\n",
       "    </tr>\n",
       "    <tr>\n",
       "      <th>981</th>\n",
       "      <td>0.055556</td>\n",
       "      <td>-2271.0</td>\n",
       "      <td>1</td>\n",
       "    </tr>\n",
       "    <tr>\n",
       "      <th>985</th>\n",
       "      <td>0.055556</td>\n",
       "      <td>-2207.0</td>\n",
       "      <td>1</td>\n",
       "    </tr>\n",
       "    <tr>\n",
       "      <th>986</th>\n",
       "      <td>0.055556</td>\n",
       "      <td>-2111.0</td>\n",
       "      <td>1</td>\n",
       "    </tr>\n",
       "  </tbody>\n",
       "</table>\n",
       "<p>761 rows × 3 columns</p>\n",
       "</div>"
      ],
      "text/plain": [
       "     chain_break_fraction  energy  num_occurrences\n",
       "0                0.000000 -2316.0                1\n",
       "1                0.000000 -2314.0                1\n",
       "2                0.000000 -2314.0                2\n",
       "3                0.000000 -2314.0                1\n",
       "4                0.000000 -2314.0                1\n",
       "..                    ...     ...              ...\n",
       "945              0.027778 -2203.0                1\n",
       "959              0.027778 -2162.0                1\n",
       "981              0.055556 -2271.0                1\n",
       "985              0.055556 -2207.0                1\n",
       "986              0.055556 -2111.0                1\n",
       "\n",
       "[761 rows x 3 columns]"
      ]
     },
     "execution_count": 891,
     "metadata": {},
     "output_type": "execute_result"
    }
   ],
   "source": [
    "df = sampleset.to_pandas_dataframe()\n",
    "def convert_df(df,remove_unfeasible=True):\n",
    "    \n",
    "    num_sites = sum([type(x) == int for x in df.columns])\n",
    "    sites = df.iloc[:,0:num_sites].to_numpy()\n",
    "    unfeasible = np.where(np.prod((sites[:,::2]+sites[:,1::2]),axis=1) != 1)[0]\n",
    "    df.drop(unfeasible, inplace=True)\n",
    "    \n",
    "    new_labels = df.iloc[:,0:num_sites].to_numpy()[:,::2]\n",
    "    df.drop(np.arange(num_sites),axis=1,inplace=True)\n",
    "    \n",
    "    new_col = {}\n",
    "    for i in range(int(num_sites/2)):\n",
    "        new_col[i] = new_labels[:,i].tolist()\n",
    "    return df\n",
    "convert_df(df)"
   ]
  },
  {
   "cell_type": "code",
   "execution_count": 717,
   "id": "2367e822",
   "metadata": {},
   "outputs": [
    {
     "data": {
      "text/plain": [
       "(490, 36)"
      ]
     },
     "execution_count": 717,
     "metadata": {},
     "output_type": "execute_result"
    }
   ],
   "source": [
    "ar = df.iloc[:,0:36].to_numpy()\n",
    "np.sum(df['num_occurrences'].to_numpy()[np.where(np.sum(ar[:,::2],axis=1) == 17)[0]])\n",
    "ar.shape"
   ]
  },
  {
   "cell_type": "code",
   "execution_count": 749,
   "id": "7e301940",
   "metadata": {},
   "outputs": [
    {
     "name": "stdout",
     "output_type": "stream",
     "text": [
      "(array([  0,   1,   2,   3,   4,   5,   6,   7,   8,  41,  42,  43,  44,\n",
      "        45,  46,  47,  48,  49,  50,  51,  52,  53,  54,  55,  56,  57,\n",
      "        78,  79,  80,  82,  83, 111, 112, 117, 118, 119, 120, 121, 124,\n",
      "       125, 126, 128, 129, 130, 131, 134, 136, 139, 140, 142, 157, 158,\n",
      "       160, 161, 162, 166, 170, 171, 172, 174, 178, 179, 180, 181, 184,\n",
      "       187, 190, 191, 192, 195, 208, 209, 210, 218, 226, 228, 229, 230]),)\n"
     ]
    },
    {
     "data": {
      "text/html": [
       "<div>\n",
       "<style scoped>\n",
       "    .dataframe tbody tr th:only-of-type {\n",
       "        vertical-align: middle;\n",
       "    }\n",
       "\n",
       "    .dataframe tbody tr th {\n",
       "        vertical-align: top;\n",
       "    }\n",
       "\n",
       "    .dataframe thead th {\n",
       "        text-align: right;\n",
       "    }\n",
       "</style>\n",
       "<table border=\"1\" class=\"dataframe\">\n",
       "  <thead>\n",
       "    <tr style=\"text-align: right;\">\n",
       "      <th></th>\n",
       "      <th>0</th>\n",
       "      <th>1</th>\n",
       "      <th>2</th>\n",
       "      <th>3</th>\n",
       "      <th>4</th>\n",
       "      <th>5</th>\n",
       "      <th>6</th>\n",
       "      <th>7</th>\n",
       "      <th>8</th>\n",
       "      <th>9</th>\n",
       "      <th>...</th>\n",
       "      <th>29</th>\n",
       "      <th>30</th>\n",
       "      <th>31</th>\n",
       "      <th>32</th>\n",
       "      <th>33</th>\n",
       "      <th>34</th>\n",
       "      <th>35</th>\n",
       "      <th>chain_break_fraction</th>\n",
       "      <th>energy</th>\n",
       "      <th>num_occurrences</th>\n",
       "    </tr>\n",
       "  </thead>\n",
       "  <tbody>\n",
       "    <tr>\n",
       "      <th>0</th>\n",
       "      <td>1</td>\n",
       "      <td>0</td>\n",
       "      <td>1</td>\n",
       "      <td>0</td>\n",
       "      <td>1</td>\n",
       "      <td>0</td>\n",
       "      <td>1</td>\n",
       "      <td>0</td>\n",
       "      <td>1</td>\n",
       "      <td>0</td>\n",
       "      <td>...</td>\n",
       "      <td>0</td>\n",
       "      <td>1</td>\n",
       "      <td>0</td>\n",
       "      <td>1</td>\n",
       "      <td>0</td>\n",
       "      <td>1</td>\n",
       "      <td>0</td>\n",
       "      <td>0.000000</td>\n",
       "      <td>-760.0</td>\n",
       "      <td>27</td>\n",
       "    </tr>\n",
       "    <tr>\n",
       "      <th>1</th>\n",
       "      <td>0</td>\n",
       "      <td>1</td>\n",
       "      <td>1</td>\n",
       "      <td>0</td>\n",
       "      <td>1</td>\n",
       "      <td>0</td>\n",
       "      <td>1</td>\n",
       "      <td>0</td>\n",
       "      <td>1</td>\n",
       "      <td>0</td>\n",
       "      <td>...</td>\n",
       "      <td>0</td>\n",
       "      <td>1</td>\n",
       "      <td>0</td>\n",
       "      <td>1</td>\n",
       "      <td>0</td>\n",
       "      <td>1</td>\n",
       "      <td>0</td>\n",
       "      <td>0.000000</td>\n",
       "      <td>-760.0</td>\n",
       "      <td>8</td>\n",
       "    </tr>\n",
       "    <tr>\n",
       "      <th>2</th>\n",
       "      <td>1</td>\n",
       "      <td>0</td>\n",
       "      <td>1</td>\n",
       "      <td>0</td>\n",
       "      <td>1</td>\n",
       "      <td>0</td>\n",
       "      <td>1</td>\n",
       "      <td>0</td>\n",
       "      <td>0</td>\n",
       "      <td>1</td>\n",
       "      <td>...</td>\n",
       "      <td>0</td>\n",
       "      <td>1</td>\n",
       "      <td>0</td>\n",
       "      <td>1</td>\n",
       "      <td>0</td>\n",
       "      <td>1</td>\n",
       "      <td>0</td>\n",
       "      <td>0.000000</td>\n",
       "      <td>-760.0</td>\n",
       "      <td>34</td>\n",
       "    </tr>\n",
       "    <tr>\n",
       "      <th>3</th>\n",
       "      <td>1</td>\n",
       "      <td>0</td>\n",
       "      <td>1</td>\n",
       "      <td>0</td>\n",
       "      <td>1</td>\n",
       "      <td>0</td>\n",
       "      <td>1</td>\n",
       "      <td>0</td>\n",
       "      <td>1</td>\n",
       "      <td>0</td>\n",
       "      <td>...</td>\n",
       "      <td>0</td>\n",
       "      <td>1</td>\n",
       "      <td>0</td>\n",
       "      <td>1</td>\n",
       "      <td>0</td>\n",
       "      <td>1</td>\n",
       "      <td>0</td>\n",
       "      <td>0.000000</td>\n",
       "      <td>-760.0</td>\n",
       "      <td>42</td>\n",
       "    </tr>\n",
       "    <tr>\n",
       "      <th>4</th>\n",
       "      <td>1</td>\n",
       "      <td>0</td>\n",
       "      <td>1</td>\n",
       "      <td>0</td>\n",
       "      <td>1</td>\n",
       "      <td>0</td>\n",
       "      <td>1</td>\n",
       "      <td>0</td>\n",
       "      <td>1</td>\n",
       "      <td>0</td>\n",
       "      <td>...</td>\n",
       "      <td>0</td>\n",
       "      <td>1</td>\n",
       "      <td>0</td>\n",
       "      <td>1</td>\n",
       "      <td>0</td>\n",
       "      <td>1</td>\n",
       "      <td>0</td>\n",
       "      <td>0.000000</td>\n",
       "      <td>-760.0</td>\n",
       "      <td>16</td>\n",
       "    </tr>\n",
       "    <tr>\n",
       "      <th>...</th>\n",
       "      <td>...</td>\n",
       "      <td>...</td>\n",
       "      <td>...</td>\n",
       "      <td>...</td>\n",
       "      <td>...</td>\n",
       "      <td>...</td>\n",
       "      <td>...</td>\n",
       "      <td>...</td>\n",
       "      <td>...</td>\n",
       "      <td>...</td>\n",
       "      <td>...</td>\n",
       "      <td>...</td>\n",
       "      <td>...</td>\n",
       "      <td>...</td>\n",
       "      <td>...</td>\n",
       "      <td>...</td>\n",
       "      <td>...</td>\n",
       "      <td>...</td>\n",
       "      <td>...</td>\n",
       "      <td>...</td>\n",
       "      <td>...</td>\n",
       "    </tr>\n",
       "    <tr>\n",
       "      <th>485</th>\n",
       "      <td>1</td>\n",
       "      <td>0</td>\n",
       "      <td>1</td>\n",
       "      <td>0</td>\n",
       "      <td>1</td>\n",
       "      <td>0</td>\n",
       "      <td>0</td>\n",
       "      <td>1</td>\n",
       "      <td>1</td>\n",
       "      <td>0</td>\n",
       "      <td>...</td>\n",
       "      <td>0</td>\n",
       "      <td>0</td>\n",
       "      <td>0</td>\n",
       "      <td>1</td>\n",
       "      <td>0</td>\n",
       "      <td>1</td>\n",
       "      <td>0</td>\n",
       "      <td>0.083333</td>\n",
       "      <td>-732.0</td>\n",
       "      <td>1</td>\n",
       "    </tr>\n",
       "    <tr>\n",
       "      <th>486</th>\n",
       "      <td>1</td>\n",
       "      <td>0</td>\n",
       "      <td>1</td>\n",
       "      <td>0</td>\n",
       "      <td>1</td>\n",
       "      <td>0</td>\n",
       "      <td>1</td>\n",
       "      <td>0</td>\n",
       "      <td>1</td>\n",
       "      <td>1</td>\n",
       "      <td>...</td>\n",
       "      <td>0</td>\n",
       "      <td>1</td>\n",
       "      <td>0</td>\n",
       "      <td>1</td>\n",
       "      <td>0</td>\n",
       "      <td>1</td>\n",
       "      <td>0</td>\n",
       "      <td>0.083333</td>\n",
       "      <td>-736.0</td>\n",
       "      <td>1</td>\n",
       "    </tr>\n",
       "    <tr>\n",
       "      <th>487</th>\n",
       "      <td>1</td>\n",
       "      <td>0</td>\n",
       "      <td>0</td>\n",
       "      <td>0</td>\n",
       "      <td>0</td>\n",
       "      <td>0</td>\n",
       "      <td>1</td>\n",
       "      <td>0</td>\n",
       "      <td>1</td>\n",
       "      <td>0</td>\n",
       "      <td>...</td>\n",
       "      <td>0</td>\n",
       "      <td>1</td>\n",
       "      <td>0</td>\n",
       "      <td>1</td>\n",
       "      <td>0</td>\n",
       "      <td>0</td>\n",
       "      <td>1</td>\n",
       "      <td>0.027778</td>\n",
       "      <td>-708.0</td>\n",
       "      <td>1</td>\n",
       "    </tr>\n",
       "    <tr>\n",
       "      <th>488</th>\n",
       "      <td>1</td>\n",
       "      <td>0</td>\n",
       "      <td>1</td>\n",
       "      <td>0</td>\n",
       "      <td>1</td>\n",
       "      <td>0</td>\n",
       "      <td>1</td>\n",
       "      <td>0</td>\n",
       "      <td>1</td>\n",
       "      <td>0</td>\n",
       "      <td>...</td>\n",
       "      <td>0</td>\n",
       "      <td>1</td>\n",
       "      <td>0</td>\n",
       "      <td>1</td>\n",
       "      <td>0</td>\n",
       "      <td>1</td>\n",
       "      <td>0</td>\n",
       "      <td>0.055556</td>\n",
       "      <td>-748.0</td>\n",
       "      <td>1</td>\n",
       "    </tr>\n",
       "    <tr>\n",
       "      <th>489</th>\n",
       "      <td>0</td>\n",
       "      <td>0</td>\n",
       "      <td>1</td>\n",
       "      <td>0</td>\n",
       "      <td>1</td>\n",
       "      <td>0</td>\n",
       "      <td>1</td>\n",
       "      <td>0</td>\n",
       "      <td>1</td>\n",
       "      <td>0</td>\n",
       "      <td>...</td>\n",
       "      <td>0</td>\n",
       "      <td>0</td>\n",
       "      <td>0</td>\n",
       "      <td>1</td>\n",
       "      <td>0</td>\n",
       "      <td>1</td>\n",
       "      <td>0</td>\n",
       "      <td>0.111111</td>\n",
       "      <td>-706.0</td>\n",
       "      <td>1</td>\n",
       "    </tr>\n",
       "  </tbody>\n",
       "</table>\n",
       "<p>334 rows × 39 columns</p>\n",
       "</div>"
      ],
      "text/plain": [
       "     0  1  2  3  4  5  6  7  8  9  ...  29  30  31  32  33  34  35  \\\n",
       "0    1  0  1  0  1  0  1  0  1  0  ...   0   1   0   1   0   1   0   \n",
       "1    0  1  1  0  1  0  1  0  1  0  ...   0   1   0   1   0   1   0   \n",
       "2    1  0  1  0  1  0  1  0  0  1  ...   0   1   0   1   0   1   0   \n",
       "3    1  0  1  0  1  0  1  0  1  0  ...   0   1   0   1   0   1   0   \n",
       "4    1  0  1  0  1  0  1  0  1  0  ...   0   1   0   1   0   1   0   \n",
       "..  .. .. .. .. .. .. .. .. .. ..  ...  ..  ..  ..  ..  ..  ..  ..   \n",
       "485  1  0  1  0  1  0  0  1  1  0  ...   0   0   0   1   0   1   0   \n",
       "486  1  0  1  0  1  0  1  0  1  1  ...   0   1   0   1   0   1   0   \n",
       "487  1  0  0  0  0  0  1  0  1  0  ...   0   1   0   1   0   0   1   \n",
       "488  1  0  1  0  1  0  1  0  1  0  ...   0   1   0   1   0   1   0   \n",
       "489  0  0  1  0  1  0  1  0  1  0  ...   0   0   0   1   0   1   0   \n",
       "\n",
       "     chain_break_fraction  energy  num_occurrences  \n",
       "0                0.000000  -760.0               27  \n",
       "1                0.000000  -760.0                8  \n",
       "2                0.000000  -760.0               34  \n",
       "3                0.000000  -760.0               42  \n",
       "4                0.000000  -760.0               16  \n",
       "..                    ...     ...              ...  \n",
       "485              0.083333  -732.0                1  \n",
       "486              0.083333  -736.0                1  \n",
       "487              0.027778  -708.0                1  \n",
       "488              0.055556  -748.0                1  \n",
       "489              0.111111  -706.0                1  \n",
       "\n",
       "[334 rows x 39 columns]"
      ]
     },
     "execution_count": 749,
     "metadata": {},
     "output_type": "execute_result"
    }
   ],
   "source": [
    "keep = np.where(np.sum((ar[:,::2]+ar[:,1::2])-np.ones((ar.shape[0],int(ar.shape[1]/2))),axis=1) == 0. )\n",
    "not_keep = np.where(np.sum((ar[:,::2]+ar[:,1::2])-np.ones((ar.shape[0],int(ar.shape[1]/2))),axis=1) != 0. )[0]\n",
    "#aa = np.sum((ar[:,::2]+ar[:,1::2])-np.ones((ar.shape[0],int(ar.shape[1]/2))),axis=1) \n",
    "print(np.where(np.sum(ar[keep][:,::2],axis=1) == 17))\n",
    "not_keep2 = np.where(np.sum(ar[keep][:,::2],axis=1) != 17)[0]\n",
    "np.sum(df['num_occurrences'].to_numpy()[keep][np.where(np.sum(ar[keep][:,::2],axis=1) == 17)])\n",
    "df.drop(not_keep)\n",
    "df.drop(not_keep2)"
   ]
  }
 ],
 "metadata": {
  "kernelspec": {
   "display_name": "Python 3 (ipykernel)",
   "language": "python",
   "name": "python3"
  },
  "language_info": {
   "codemirror_mode": {
    "name": "ipython",
    "version": 3
   },
   "file_extension": ".py",
   "mimetype": "text/x-python",
   "name": "python",
   "nbconvert_exporter": "python",
   "pygments_lexer": "ipython3",
   "version": "3.9.12"
  }
 },
 "nbformat": 4,
 "nbformat_minor": 5
}
