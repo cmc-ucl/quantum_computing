{
 "cells": [
  {
   "cell_type": "markdown",
   "id": "a1a32aa5",
   "metadata": {},
   "source": [
    "# QUBO formulation of problems\n",
    "\n",
    "- Vacancies in graphene\n",
    "- Knapsack problem\n",
    "- Map colouring (discrete)\n",
    "- Travelling salesperson\n",
    "- Water reservoir management (discrete)"
   ]
  },
  {
   "cell_type": "markdown",
   "id": "f04d66ba",
   "metadata": {},
   "source": [
    "## The theory\n",
    "- Ising vs QUBO\n",
    "- Eigenproblem\n",
    "- Objective\n",
    "- Constraint"
   ]
  }
 ],
 "metadata": {
  "kernelspec": {
   "display_name": "Python 3 (ipykernel)",
   "language": "python",
   "name": "python3"
  },
  "language_info": {
   "codemirror_mode": {
    "name": "ipython",
    "version": 3
   },
   "file_extension": ".py",
   "mimetype": "text/x-python",
   "name": "python",
   "nbconvert_exporter": "python",
   "pygments_lexer": "ipython3",
   "version": "3.9.12"
  }
 },
 "nbformat": 4,
 "nbformat_minor": 5
}
